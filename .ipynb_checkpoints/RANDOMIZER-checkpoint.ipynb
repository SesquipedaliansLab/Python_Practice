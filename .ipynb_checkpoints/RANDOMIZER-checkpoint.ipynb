{
 "cells": [
  {
   "cell_type": "code",
   "execution_count": null,
   "metadata": {
    "collapsed": true
   },
   "outputs": [],
   "source": [
    "f=open('data.txt', encoding = 'utf8')\n",
    "print(f.read())\n",
    "f.close()"
   ]
  },
  {
   "cell_type": "code",
   "execution_count": null,
   "metadata": {
    "collapsed": true
   },
   "outputs": [],
   "source": [
    "f=open('data.txt','w')\n",
    "f.write('You are an idiot!\\n')\n",
    "f.close()"
   ]
  },
  {
   "cell_type": "code",
   "execution_count": null,
   "metadata": {
    "collapsed": true
   },
   "outputs": [],
   "source": [
    "f=open('data.txt','a')\n",
    "for i in range(100) :\n",
    "    for j in range(20) :\n",
    "        f.write('Aha ha ah hahaha ha aha haha ha!')\n",
    "    f.write('\\n')\n",
    "f.close()"
   ]
  },
  {
   "cell_type": "code",
   "execution_count": 2,
   "metadata": {},
   "outputs": [
    {
     "name": "stdout",
     "output_type": "stream",
     "text": [
      "한 조로 편성할 사람들의 수를 입력하세요 : 4\n"
     ]
    }
   ],
   "source": [
    "import random as r\n",
    "f=open('7반.txt')\n",
    "n = input(\"한 조로 편성할 사람들의 수를 입력하세요 : \")\n",
    "LeaderEnabled = True\n",
    "if n == 1 :\n",
    "    LeaderEnabled = False\n",
    "LoadedList = []\n",
    "for names in f :\n",
    "    LoadedList.append(names.strip())\n",
    "f.close()\n",
    "r.shuffle(LoadedList)\n",
    "k=open('7반_Shuffled.txt',\"w\",encoding = \"utf8\")\n",
    "order = 1\n",
    "\n",
    "for name in LoadedList :\n",
    "    k.write(name + ' ')\n",
    "    if(order % int(n) == 0) :\n",
    "        k.write('\\n')\n",
    "    elif(order % int(n) == 1) :\n",
    "        k.write(\" : 조장, 조원 : \")\n",
    "    order+=1\n",
    "k.close()"
   ]
  },
  {
   "cell_type": "code",
   "execution_count": 1,
   "metadata": {},
   "outputs": [],
   "source": []
  },
  {
   "cell_type": "code",
   "execution_count": null,
   "metadata": {
    "collapsed": true
   },
   "outputs": [],
   "source": []
  },
  {
   "cell_type": "code",
   "execution_count": null,
   "metadata": {
    "collapsed": true
   },
   "outputs": [],
   "source": []
  }
 ],
 "metadata": {
  "kernelspec": {
   "display_name": "Python 3",
   "language": "python",
   "name": "python3"
  },
  "language_info": {
   "codemirror_mode": {
    "name": "ipython",
    "version": 3
   },
   "file_extension": ".py",
   "mimetype": "text/x-python",
   "name": "python",
   "nbconvert_exporter": "python",
   "pygments_lexer": "ipython3",
   "version": "3.6.3"
  }
 },
 "nbformat": 4,
 "nbformat_minor": 2
}
