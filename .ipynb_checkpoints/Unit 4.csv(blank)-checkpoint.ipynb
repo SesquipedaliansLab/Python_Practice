{
 "cells": [
  {
   "cell_type": "code",
   "execution_count": null,
   "metadata": {
    "collapsed": true
   },
   "outputs": [],
   "source": [
    "'''\n",
    "이 문서는 주요 부분에 대해 '___'와 같은 형태로 blank처리가 되어있습니다.\n",
    "타이핑이 빠르지 않을 경우 주요 내용에 대해서 작성해보며 프로그램의 흐름을 이해하시기 바랍니다 :)\n",
    "'''"
   ]
  },
  {
   "cell_type": "markdown",
   "metadata": {},
   "source": [
    "## Unit 4. CSV\n",
    "### - 행과 열로 이루어진 데이터를 쉽게 다루는 방법을 배워보자.\n",
    "### 1) CSV란\n",
    "#### - Comma Separated Values\n",
    "#### - 컴마(,)로 데이터의 값을 구분하는 데이터 형식"
   ]
  },
  {
   "cell_type": "code",
   "execution_count": null,
   "metadata": {
    "collapsed": true
   },
   "outputs": [],
   "source": [
    "f = open('temp.csv')\n",
    "print(f.read())\n",
    "f.close()"
   ]
  },
  {
   "cell_type": "markdown",
   "metadata": {},
   "source": [
    "### 2) import csv : CSV 라이브러리 불러오기"
   ]
  },
  {
   "cell_type": "code",
   "execution_count": null,
   "metadata": {
    "collapsed": true
   },
   "outputs": [],
   "source": [
    "# csv 라이브러리 불러오기\n",
    "import csv as csv"
   ]
  },
  {
   "cell_type": "markdown",
   "metadata": {},
   "source": [
    "### [ csv 라이브러리의 주요 함수 ]\n",
    "#### (1) csv.reader(csvfile) : csvfile에서 읽기\n",
    "\n",
    "#### (2) csv.writer(csvfile) : csvfile에 쓰기"
   ]
  },
  {
   "cell_type": "markdown",
   "metadata": {},
   "source": [
    "### 3) reader 함수(writer 함수는 다음에)\n",
    "### 변수 = csv.reader(csv파일)"
   ]
  },
  {
   "cell_type": "code",
   "execution_count": null,
   "metadata": {},
   "outputs": [],
   "source": [
    "import csv\n",
    "f = open('temp.csv')\n",
    "data = csv.reader(f)\n",
    "\n",
    "for row in data :\n",
    "    print(row)\n",
    "f.close()"
   ]
  },
  {
   "cell_type": "markdown",
   "metadata": {},
   "source": [
    "### 4) 각 열(column)에 대해 접근해 날짜와 최고기온만 출력하기"
   ]
  },
  {
   "cell_type": "code",
   "execution_count": null,
   "metadata": {},
   "outputs": [],
   "source": [
    "import csv\n",
    "f = open('temp.csv')\n",
    "data = csv.reader(f)\n",
    "# 각 행마다 날짜(인덱스 : 0)와 최고기온(인덱스 : 4 또는 -1)만 출력하기\n",
    "for row in data :\n",
    "    print(row[0], row[-1])\n",
    "f.close()"
   ]
  },
  {
   "cell_type": "markdown",
   "metadata": {},
   "source": [
    "### 5) 날짜와 일교차 출력하기\n",
    "#### (1) TypeError: unsupported operand type(s) for -: 'str' and 'str'"
   ]
  },
  {
   "cell_type": "code",
   "execution_count": null,
   "metadata": {},
   "outputs": [],
   "source": [
    "import csv\n",
    "f = open('temp.csv')\n",
    "data = csv.reader(f)\n",
    "\n",
    "for row in data : \n",
    "    # 날짜와 일교차(최고기온 - 최저기온) 출력하기\n",
    "    print(row[0], row[-1] - row[-2])\n",
    "    \n",
    "f.close()"
   ]
  },
  {
   "cell_type": "markdown",
   "metadata": {},
   "source": [
    "#### (2) ValueError: could not convert string to float: "
   ]
  },
  {
   "cell_type": "code",
   "execution_count": null,
   "metadata": {},
   "outputs": [],
   "source": [
    "import csv\n",
    "f = open('temp.csv')\n",
    "data = csv.reader(f)\n",
    "\n",
    "for row in data : \n",
    "    # 날짜와 일교차(최고기온 - 최저기온) 출력하기\n",
    "    print(row[0], float(row[-1]) - float(row[-2]))\n",
    "    \n",
    "f.close()"
   ]
  },
  {
   "cell_type": "markdown",
   "metadata": {},
   "source": [
    "#### (3) 비어있는 데이터에 대한, 예외의 경우 처리하기"
   ]
  },
  {
   "cell_type": "code",
   "execution_count": null,
   "metadata": {},
   "outputs": [],
   "source": [
    "import csv\n",
    "f = open('temp.csv')\n",
    "data = csv.reader(f)\n",
    "error = ''\n",
    "for row in data : \n",
    "    # 최고기온, 최저기온 데이터가 비어있지 않을 경우에만 출력하기\n",
    "    if row[-1] != error and row[-2] != error :\n",
    "        print(row[0], float(row[-1]) - float(row[-2]))\n",
    "f.close()"
   ]
  },
  {
   "cell_type": "markdown",
   "metadata": {},
   "source": [
    "### tip) split('-')"
   ]
  },
  {
   "cell_type": "code",
   "execution_count": null,
   "metadata": {
    "collapsed": true
   },
   "outputs": [],
   "source": [
    "import csv\n",
    "f = open('temp.csv')\n",
    "data = csv.reader(f)\n",
    "\n",
    "for row in data : \n",
    "    # 년, 월, 일을 나누어 리스트에 저장하기 위해 split 함수 사용하기\n",
    "    date = row[0].split('-')\n",
    "    print(date)\n",
    "    print(date[0]+'년'+date[1]+'월'+date[2]+'일')\n",
    "f.close()"
   ]
  },
  {
   "cell_type": "code",
   "execution_count": null,
   "metadata": {},
   "outputs": [],
   "source": [
    "import csv\n",
    "f = open('temp.csv')\n",
    "error = ''\n",
    "savedTemp = 0\n",
    "data = csv.reader(f)\n",
    "data = list(data) #data를 2번 이용하려면 이렇게 해야 함\n",
    "savedDate = ''\n",
    "LowestTemp = 0\n",
    "LowestDate = ''\n",
    "for row in data :\n",
    "    if row[-1] != error :\n",
    "        if float(savedTemp) < float(row[-1]) :\n",
    "            savedTemp = row[-1]\n",
    "            date = row[0].split('-')\n",
    "            savedDate = (date[0] + '년' + ' '+ date[1] + '월' + ' ' + date[2] + '일')\n",
    "print('가장 더웠던 날 ' + savedDate + '의 기온 : '+ savedTemp + 'C')\n",
    "for row in data :\n",
    "    if row[-2] != error :\n",
    "        if float(LowestTemp) > float(row[-2]) :\n",
    "            LowestTemp = row[-2]\n",
    "            date = row[0].split('-')\n",
    "            LowestDate = date[0] + '년' + ' '+ date[1] + '월' + ' ' + date[2] + '일'\n",
    "print('가장 추웠던 날 ' + LowestDate + '의 기온 : '+ LowestTemp + 'C')\n",
    "f.close()"
   ]
  },
  {
   "cell_type": "code",
   "execution_count": 2,
   "metadata": {},
   "outputs": [
    {
     "name": "stdout",
     "output_type": "stream",
     "text": [
      "검색할 최대온도 : 5\n",
      "검색할 최저온도 : 4\n",
      "입력하신 범위에 해당하는 날들을 모았습니다. 출력할까요? Y/N : Y\n"
     ]
    }
   ],
   "source": [
    "import csv\n",
    "f = open('temp.csv')\n",
    "data = csv.reader(f)\n",
    "error = ''\n",
    "criterionMax = input(\"검색할 최대온도 : \")\n",
    "criterionMin = input(\"검색할 최저온도 : \")\n",
    "SavedDates = []\n",
    "for row in data :\n",
    "    if row[-1] != error and row[-2] != error :\n",
    "        if(float(criterionMax) >= float(row[-1]) and float(criterionMin) <= float(row[-2])) :\n",
    "            SavedDates.append(row[0])\n",
    "Conversation = input('입력하신 범위에 해당하는 날들을 모았습니다. 출력할까요? Y/N : ')\n",
    "if(Conversation == 'Y') :\n",
    "    for i in range(len(SavedDates)) :\n",
    "        print(SavedDates[i])\n",
    "elif(Conversation == 'N') :\n",
    "    n = open('TEMP.txt')\n",
    "    "
   ]
  },
  {
   "cell_type": "code",
   "execution_count": null,
   "metadata": {
    "collapsed": true
   },
   "outputs": [],
   "source": []
  }
 ],
 "metadata": {
  "kernelspec": {
   "display_name": "Python 3",
   "language": "python",
   "name": "python3"
  },
  "language_info": {
   "codemirror_mode": {
    "name": "ipython",
    "version": 3
   },
   "file_extension": ".py",
   "mimetype": "text/x-python",
   "name": "python",
   "nbconvert_exporter": "python",
   "pygments_lexer": "ipython3",
   "version": "3.6.3"
  }
 },
 "nbformat": 4,
 "nbformat_minor": 2
}
