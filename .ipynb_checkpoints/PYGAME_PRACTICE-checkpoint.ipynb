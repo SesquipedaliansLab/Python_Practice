{
 "cells": [
  {
   "cell_type": "code",
   "execution_count": 1,
   "metadata": {},
   "outputs": [],
   "source": [
    "import pygame\n",
    "pygame.init()\n",
    "display_width = 800\n",
    "display_height = 600\n",
    "gameDisplay = pygame.display.set_mode((display_width,display_height))\n",
    "pygame.display.set_caption(\"RACE\")\n",
    "black = (0,0,0)\n",
    "white = (255,255,255)\n",
    "clock = pygame.time.Clock()\n",
    "crashed = False\n",
    "carimg = pygame.image.load(\"car.png\")\n",
    "def car(x,y) :\n",
    "    gameDisplay.blit(carimg,(x,y))\n",
    "x = (display_width * 0.45)\n",
    "y = (display_height * 0.8)\n",
    "x_change = 0\n",
    "y_change = 0\n",
    "car_speed = 0\n",
    "while not crashed :\n",
    "    for event in pygame.event.get():\n",
    "        if event.type == pygame.QUIT :\n",
    "            crashed = True\n",
    "        if event.type == pygame.KEYDOWN :\n",
    "            if event.key == pygame.K_LEFT :\n",
    "                x_change = -5\n",
    "            elif event.key == pygame.K_RIGHT :\n",
    "                x_change = 5\n",
    "            elif event.key == pygame.K_UP :\n",
    "                y_change = -5\n",
    "            elif event.key == pygame.K_DOWN :\n",
    "                y_change = 5\n",
    "        if event.type == pygame.KEYUP :\n",
    "            if event.key == pygame.K_LEFT or event.key == pygame.K_RIGHT :\n",
    "                x_change = 0\n",
    "            if event.key == pygame.K_UP or event.key == pygame.K_DOWN  :\n",
    "                y_change = 0\n",
    "    x += x_change\n",
    "    y += y_change\n",
    "    gameDisplay.fill(white)\n",
    "    car(x,y)\n",
    "    pygame.display.update()\n",
    "    clock.tick(60)\n",
    "pygame.quit()\n",
    "quit()"
   ]
  },
  {
   "cell_type": "code",
   "execution_count": null,
   "metadata": {
    "collapsed": true
   },
   "outputs": [],
   "source": []
  }
 ],
 "metadata": {
  "kernelspec": {
   "display_name": "Python 3",
   "language": "python",
   "name": "python3"
  },
  "language_info": {
   "codemirror_mode": {
    "name": "ipython",
    "version": 3
   },
   "file_extension": ".py",
   "mimetype": "text/x-python",
   "name": "python",
   "nbconvert_exporter": "python",
   "pygments_lexer": "ipython3",
   "version": "3.6.3"
  }
 },
 "nbformat": 4,
 "nbformat_minor": 2
}
