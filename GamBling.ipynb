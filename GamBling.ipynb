{
 "cells": [
  {
   "cell_type": "code",
   "execution_count": 1,
   "metadata": {},
   "outputs": [
    {
     "name": "stdout",
     "output_type": "stream",
     "text": [
      "주사위 게임 : 모든 주사위의 합보다 선택한 주사위의 수 X4 이 더 크면, 승리합니다.\n",
      "현재 주사위 :  1 1 1 1\n",
      "남은 돈 :  10\n",
      "컴퓨터의 남은 돈 :  10\n",
      "굴릴 주사위 번호를 입력(1~4) : 3\n",
      "3 번째 주사위가 고정되었습니다 :  6\n",
      "걸 돈(1~) :10\n",
      "결과 :  1 3 6 1\n",
      "이겼습니다!\n",
      "1 판 끝에, 컴퓨터를 이겼습니다!\n",
      "점수를 기록하려면 닉네임을 입력하세요 : Apache\n"
     ]
    }
   ],
   "source": [
    "from csv import *\n",
    "import random as r \n",
    "budget = 10\n",
    "comBud = 10\n",
    "dice = [1,1,1,1]\n",
    "Rolled = [False, False, False, False]\n",
    "Round = 0\n",
    "print(\"주사위 게임 : 모든 주사위의 합보다 선택한 주사위의 수 X\"+str(len(dice))+\" 이 더 크면, 승리합니다.\")\n",
    "while budget > 0 and comBud > 0 :\n",
    "    Round += 1\n",
    "    print(\"현재 주사위 : \", dice[0],dice[1],dice[2],dice[3])\n",
    "    print(\"남은 돈 : \", budget)\n",
    "    print(\"컴퓨터의 남은 돈 : \", comBud)\n",
    "    roll_chosen = False\n",
    "    while roll_chosen is False :\n",
    "        p = int(input(\"굴릴 주사위 번호를 입력(1~4) : \"))\n",
    "        if p<=len(dice) and p >=1 :\n",
    "            roll_chosen = True\n",
    "        else :\n",
    "            print(\"해당 주사위를 굴릴 수 없습니다.\")\n",
    "    if Rolled[p-1] is not True :\n",
    "        dice[p-1] = r.choice(range(1,7))\n",
    "    print(p,\"번째 주사위가 고정되었습니다 : \",dice[p-1])\n",
    "    bet_done = False\n",
    "    bet = 0\n",
    "    while bet_done is False :\n",
    "        bet = int(input(\"걸 돈(1~) :\"))\n",
    "        if(bet<=budget and bet is not 0 and bet>0) :\n",
    "            bet_done = True\n",
    "        else :\n",
    "            print(\"해당 금액을 걸 수 없습니다.\")\n",
    "            bet_done = False\n",
    "    for i in range(0,len(dice)) :\n",
    "        if(i is not p-1) :\n",
    "            dice[i] = r.choice(range(1,7))\n",
    "    print(\"결과 : \", dice[0],dice[1],dice[2],dice[3])\n",
    "    if (sum(dice))< len(dice) * dice[p-1] :\n",
    "        budget = budget + bet\n",
    "        comBud = comBud - bet\n",
    "        print(\"이겼습니다!\")\n",
    "    else :\n",
    "        budget = budget - bet\n",
    "        comBud = comBud + bet\n",
    "        print(\"졌습니다!\")\n",
    "if budget > 0 :\n",
    "    print(Round,\"판 끝에, 컴퓨터를 이겼습니다!\")\n",
    "    nick = input(\"점수를 기록하려면 닉네임을 입력하세요 : \")\n",
    "    f = open(\"highScore.csv\", \"a+\")\n",
    "    recorder = writer(f)\n",
    "    recorder.writerow([str(nick)] + [str(budget)] + [str(Round)])\n",
    "    f.close()\n",
    "else :\n",
    "    print(\"컴퓨터가 이겼습니다!\")"
   ]
  },
  {
   "cell_type": "code",
   "execution_count": 2,
   "metadata": {},
   "outputs": [
    {
     "name": "stdout",
     "output_type": "stream",
     "text": [
      "Apache,30,5\n",
      "\n",
      "Apache,32,7\n",
      "\n",
      "qkrdlstjs,20,1\n",
      "\n",
      "송다이,20,4\n",
      "\n",
      "허민수,20,1\n",
      "\n",
      "기요밍수,20,19\n",
      "\n",
      "Apache,20,1\n",
      "\n"
     ]
    }
   ],
   "source": [
    "import csv\n",
    "with open(\"highScore.csv\") as csvfile :\n",
    "    spareader = csv.reader(csvfile, delimiter=' ', quotechar='|')\n",
    "    for row in spareader:\n",
    "        print(','.join(row))\n",
    "    \n"
   ]
  },
  {
   "cell_type": "code",
   "execution_count": null,
   "metadata": {
    "collapsed": true
   },
   "outputs": [],
   "source": [
    "import csv\n",
    "f = open(\"highScore.csv\")\n"
   ]
  },
  {
   "cell_type": "code",
   "execution_count": null,
   "metadata": {
    "collapsed": true
   },
   "outputs": [],
   "source": []
  }
 ],
 "metadata": {
  "kernelspec": {
   "display_name": "Python 3",
   "language": "python",
   "name": "python3"
  },
  "language_info": {
   "codemirror_mode": {
    "name": "ipython",
    "version": 3
   },
   "file_extension": ".py",
   "mimetype": "text/x-python",
   "name": "python",
   "nbconvert_exporter": "python",
   "pygments_lexer": "ipython3",
   "version": "3.6.3"
  }
 },
 "nbformat": 4,
 "nbformat_minor": 2
}
